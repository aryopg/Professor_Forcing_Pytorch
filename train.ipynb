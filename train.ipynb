{
 "cells": [
  {
   "cell_type": "code",
   "execution_count": 1,
   "metadata": {},
   "outputs": [],
   "source": [
    "from matplotlib import pyplot as plt\n",
    "import pandas as pd\n",
    "import numpy as np\n",
    "\n",
    "from utils.Lang import Lang\n",
    "from utils.helpers import *\n",
    "\n",
    "from models.generator import *\n",
    "from models.discriminator import *\n",
    "\n",
    "from main import *\n",
    "from params import *\n",
    "\n",
    "%matplotlib inline"
   ]
  },
  {
   "cell_type": "code",
   "execution_count": 2,
   "metadata": {},
   "outputs": [
    {
     "name": "stdout",
     "output_type": "stream",
     "text": [
      "Reading lines...\n",
      "Read 135842 sentence pairs\n",
      "Trimmed to 10853 sentence pairs\n",
      "Counting words...\n",
      "Counted words:\n",
      "fra 4489\n",
      "eng 2925\n",
      "['vous n etes pas en retard .', 'you re not late .']\n"
     ]
    }
   ],
   "source": [
    "input_lang, output_lang, pairs = prepareData('eng', 'fra', True, max_length=MAX_LENGTH)\n",
    "print(random.choice(pairs))"
   ]
  },
  {
   "cell_type": "code",
   "execution_count": 3,
   "metadata": {},
   "outputs": [],
   "source": [
    "generator = Generator(input_size=input_lang.n_words,\n",
    "                       hidden_size=HIDDEN_SIZE,\n",
    "                       output_size=output_lang.n_words,\n",
    "                       max_length=MAX_LENGTH,\n",
    "                       dropout_p=0.5,\n",
    "                       output_lang=output_lang\n",
    "                      )\n",
    "\n",
    "discriminator = Discriminator(input_size=output_lang.n_words,\n",
    "                              hidden_size=HIDDEN_SIZE,\n",
    "                              input_length=MAX_LENGTH\n",
    "                             )\n",
    "\n",
    "training_pairs = [tensorsFromPair(input_lang, output_lang, random.choice(pairs))\n",
    "                  for i in range(N_ITERS*BATCH_SIZE)]\n",
    "\n",
    "generator_optimizer = optim.Adam(generator.parameters(), lr=LEARNING_RATE)\n",
    "discriminator_optimizer = optim.Adam(discriminator.parameters(), lr=LEARNING_RATE)\n",
    "\n",
    "criterion = nn.NLLLoss()\n",
    "jsdloss = JSDLoss()"
   ]
  },
  {
   "cell_type": "code",
   "execution_count": 9,
   "metadata": {},
   "outputs": [
    {
     "name": "stdout",
     "output_type": "stream",
     "text": [
      "0m 4s (- 1m 26s) (1 5%) 2.6368\n",
      "0m 9s (- 1m 21s) (2 10%) 2.6436\n",
      "0m 13s (- 1m 17s) (3 15%) 2.9176\n",
      "0m 18s (- 1m 13s) (4 20%) 4.3065\n",
      "0m 23s (- 1m 9s) (5 25%) 4.4782\n",
      "0m 27s (- 1m 5s) (6 30%) 3.9345\n",
      "0m 33s (- 1m 2s) (7 35%) 4.2643\n",
      "0m 38s (- 0m 57s) (8 40%) 4.5877\n",
      "0m 43s (- 0m 52s) (9 45%) 4.6665\n",
      "0m 47s (- 0m 47s) (10 50%) 5.1042\n",
      "0m 53s (- 0m 43s) (11 55%) 4.3273\n",
      "0m 58s (- 0m 39s) (12 60%) 5.0956\n",
      "1m 2s (- 0m 33s) (13 65%) 5.3015\n",
      "1m 7s (- 0m 28s) (14 70%) 3.9049\n",
      "1m 12s (- 0m 24s) (15 75%) 5.3064\n",
      "1m 16s (- 0m 19s) (16 80%) 4.9042\n",
      "1m 21s (- 0m 14s) (17 85%) 4.0062\n",
      "1m 25s (- 0m 9s) (18 90%) 3.9423\n",
      "1m 30s (- 0m 4s) (19 95%) 3.8341\n",
      "1m 34s (- 0m 0s) (20 100%) 5.0841\n"
     ]
    }
   ],
   "source": [
    "# encoder1 = EncoderRNN(input_lang.n_words, HIDDEN_SIZE).to(device)\n",
    "# attn_decoder1 = AttnDecoderRNN(HIDDEN_SIZE, output_lang.n_words, dropout_p=0.1).to(device)\n",
    "\n",
    "# trainIters(encoder1, attn_decoder1, input_lang, output_lang, pairs, 75000, print_every=1)\n",
    "losses = trainIters(generator, discriminator, generator_optimizer, discriminator_optimizer, criterion, jsdloss, training_pairs, N_ITERS, print_every=1, plot_every=1)"
   ]
  },
  {
   "cell_type": "code",
   "execution_count": 10,
   "metadata": {},
   "outputs": [
    {
     "name": "stdout",
     "output_type": "stream",
     "text": [
      "[2.6367828369140627, 2.6435825347900392, 2.9175621032714845, 4.306526184082031, 4.478165054321289, 3.934531402587891, 4.264287948608398, 4.587657165527344, 4.666523742675781, 5.104179000854492, 4.327272033691406, 5.095568084716797, 5.301472473144531, 3.9049190521240233, 5.30639762878418, 4.904217147827149, 4.006153869628906, 3.9423233032226563, 3.834114837646484, 5.084148788452149]\n",
      "[2.6367828369140627, 2.6435825347900392, 2.9175621032714845, 4.306526184082031, 4.478165054321289, 3.934531402587891, 4.264287948608398, 4.587657165527344, 4.666523742675781, 5.104179000854492, 4.327272033691406, 5.095568084716797, 5.301472473144531, 3.9049190521240233, 5.30639762878418, 4.904217147827149, 4.006153869628906, 3.9423233032226563, 3.834114837646484, 5.084148788452149]\n"
     ]
    },
    {
     "data": {
      "text/plain": [
       "<matplotlib.figure.Figure at 0x11cf24208>"
      ]
     },
     "metadata": {},
     "output_type": "display_data"
    },
    {
     "data": {
      "image/png": "[encoded data removed]",
      "text/plain": [
       "<matplotlib.figure.Figure at 0x11a85c320>"
      ]
     },
     "metadata": {},
     "output_type": "display_data"
    }
   ],
   "source": [
    "showPlot(losses)"
   ]
  },
  {
   "cell_type": "code",
   "execution_count": 11,
   "metadata": {},
   "outputs": [
    {
     "name": "stdout",
     "output_type": "stream",
     "text": [
      "> j en suis familier .\n",
      "= i m accustomed to this .\n",
      "< i m . <EOS>\n",
      "\n",
      "> vous etes seul n est ce pas ?\n",
      "= you re alone aren t you ?\n",
      "< you re . <EOS>\n",
      "\n",
      "> tu n es pas totalement irreprochable .\n",
      "= you re not totally blameless .\n",
      "< you re . <EOS>\n",
      "\n",
      "> tu es une de ces menteuses !\n",
      "= you are such a liar !\n",
      "< you re . <EOS>\n",
      "\n",
      "> j en ai assez de tes recriminations .\n",
      "= i m sick of your complaints .\n",
      "< i m you . <EOS>\n",
      "\n",
      "> il est a velo .\n",
      "= he is riding a bicycle .\n",
      "< he s . <EOS>\n",
      "\n",
      "> nous ne sommes pas des tueuses .\n",
      "= we re not killers .\n",
      "< we re . <EOS>\n",
      "\n",
      "> elles sont toutes fausses .\n",
      "= they re all fake .\n",
      "< he s . <EOS>\n",
      "\n",
      "> je suis depourvue d ambition .\n",
      "= i m unambitious .\n",
      "< i m . <EOS>\n",
      "\n",
      "> tu es l aine .\n",
      "= you re the oldest .\n",
      "< you re . <EOS>\n",
      "\n"
     ]
    }
   ],
   "source": [
    "evaluateRandomly(generator, input_lang, pairs)"
   ]
  },
  {
   "cell_type": "code",
   "execution_count": 6,
   "metadata": {},
   "outputs": [
    {
     "name": "stdout",
     "output_type": "stream",
     "text": [
      "i m not . <EOS>\n"
     ]
    }
   ],
   "source": [
    "output_words = evaluate(\n",
    "    generator, \"je suis trop froid .\", input_lang)\n",
    "# plt.matshow(attentions.numpy())\n",
    "print(' '.join(output_words))"
   ]
  },
  {
   "cell_type": "code",
   "execution_count": null,
   "metadata": {},
   "outputs": [],
   "source": []
  }
 ],
 "metadata": {
  "kernelspec": {
   "display_name": "Python 3",
   "language": "python",
   "name": "python3"
  },
  "language_info": {
   "codemirror_mode": {
    "name": "ipython",
    "version": 3
   },
   "file_extension": ".py",
   "mimetype": "text/x-python",
   "name": "python",
   "nbconvert_exporter": "python",
   "pygments_lexer": "ipython3",
   "version": "3.6.2"
  }
 },
 "nbformat": 4,
 "nbformat_minor": 2
}
