{
 "cells": [
  {
   "cell_type": "code",
   "execution_count": 1,
   "metadata": {},
   "outputs": [],
   "source": [
    "import torch\n",
    "from models.losses import JSDLoss\n",
    "from params import *"
   ]
  },
  {
   "cell_type": "code",
   "execution_count": 2,
   "metadata": {},
   "outputs": [],
   "source": [
    "a = torch.autograd.Variable(torch.rand(64,100)).to(device)\n",
    "b = a"
   ]
  },
  {
   "cell_type": "code",
   "execution_count": 3,
   "metadata": {},
   "outputs": [],
   "source": [
    "jsd = JSDLoss()\n",
    "loss = (nn.KLDivLoss())"
   ]
  },
  {
   "cell_type": "code",
   "execution_count": 4,
   "metadata": {},
   "outputs": [
    {
     "name": "stdout",
     "output_type": "stream",
     "text": [
      "torch.Size([64, 100])\n",
      "torch.Size([64, 100])\n",
      "True\n",
      "torch.Size([100, 100])\n",
      "torch.Size([100, 100])\n",
      "True\n",
      "torch.Size([100, 100])\n",
      "torch.Size([100, 100])\n",
      "True\n",
      "True\n",
      "tensor([[ 1.0000,  0.0000,  0.0000,  ..., -0.0000, -0.0000, -0.0000],\n",
      "        [-0.0000,  1.0000, -0.0000,  ..., -0.0000, -0.0000, -0.0000],\n",
      "        [-0.0000, -0.0000,  1.0000,  ..., -0.0000, -0.0000, -0.0000],\n",
      "        ...,\n",
      "        [-0.0000,  0.0000,  0.0000,  ...,  1.0000, -0.0000,  0.0000],\n",
      "        [-0.0000,  0.0000, -0.0000,  ...,  0.0000,  1.0000,  0.0000],\n",
      "        [ 0.0000,  0.0000,  0.0000,  ...,  0.0000,  0.0000,  1.0000]], device='cuda:0')\n",
      "tensor(100.0003, device='cuda:0')\n",
      "tensor(200.0006, device='cuda:0')\n",
      "tensor([[ 0.]], device='cuda:0')\n"
     ]
    }
   ],
   "source": [
    "x = jsd(a,b)"
   ]
  },
  {
   "cell_type": "code",
   "execution_count": 5,
   "metadata": {},
   "outputs": [
    {
     "data": {
      "text/plain": [
       "tensor([[ 199.9996]], device='cuda:0')"
      ]
     },
     "execution_count": 5,
     "metadata": {},
     "output_type": "execute_result"
    }
   ],
   "source": [
    "x"
   ]
  },
  {
   "cell_type": "code",
   "execution_count": null,
   "metadata": {},
   "outputs": [],
   "source": []
  },
  {
   "cell_type": "code",
   "execution_count": null,
   "metadata": {},
   "outputs": [],
   "source": []
  }
 ],
 "metadata": {
  "kernelspec": {
   "display_name": "Python 3",
   "language": "python",
   "name": "python3"
  },
  "language_info": {
   "codemirror_mode": {
    "name": "ipython",
    "version": 3
   },
   "file_extension": ".py",
   "mimetype": "text/x-python",
   "name": "python",
   "nbconvert_exporter": "python",
   "pygments_lexer": "ipython3",
   "version": "3.6.5"
  }
 },
 "nbformat": 4,
 "nbformat_minor": 2
}
